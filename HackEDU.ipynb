{
  "nbformat": 4,
  "nbformat_minor": 0,
  "metadata": {
    "colab": {
      "name": "HackEDU.ipynb",
      "provenance": [],
      "collapsed_sections": [],
      "toc_visible": true
    },
    "kernelspec": {
      "name": "python3",
      "display_name": "Python 3"
    }
  },
  "cells": [
    {
      "cell_type": "markdown",
      "metadata": {
        "id": "Zkuuho8YA9tn",
        "colab_type": "text"
      },
      "source": [
        "# Задача 5: найдите корень уравнения"
      ]
    },
    {
      "cell_type": "code",
      "metadata": {
        "id": "_argBdyIEJZd",
        "colab_type": "code",
        "colab": {}
      },
      "source": [
        "#импорты\n",
        "from scipy import *\n",
        "import random"
      ],
      "execution_count": 0,
      "outputs": []
    },
    {
      "cell_type": "code",
      "metadata": {
        "id": "gp_GYRtOBBDg",
        "colab_type": "code",
        "colab": {}
      },
      "source": [
        "#функции\n",
        "funcs = ['x**','log(x)', 'exp(x)']\n",
        "signs = ['-','+']\n",
        "powers = ['1/3', '1/2','2', '3']"
      ],
      "execution_count": 0,
      "outputs": []
    },
    {
      "cell_type": "code",
      "metadata": {
        "id": "lTgA0jphd1XC",
        "colab_type": "code",
        "colab": {}
      },
      "source": [
        "funcs = ['x**(1/2)','x**(1/3)','ln(x)', '2**x', '3**x']\n",
        "#funcs = ['x**(1/2)']\n",
        "#funcs += ['x**'+str(k) for k in range(1,5)]\n",
        "#funcs += [str(k)+'**x' for k in range(2,4)]\n",
        "signs = ['-','+']"
      ],
      "execution_count": 0,
      "outputs": []
    },
    {
      "cell_type": "code",
      "metadata": {
        "id": "pjEkl2DNcjG0",
        "colab_type": "code",
        "outputId": "44ca5fd8-218d-4e7e-a463-25d49427f683",
        "colab": {
          "base_uri": "https://localhost:8080/",
          "height": 51
        }
      },
      "source": [
        "#генерируем выражение и ответ\n",
        "x = symbols('x')\n",
        "expr = random.choice(funcs)\n",
        "f = expr\n",
        "\n",
        "ans = 0\n",
        "result = 0\n",
        "while (result<1/7 or result>1000) and (ans<0.5 or ans>100):\n",
        "    expr = simplify(expr)\n",
        "    if f not in ['x**(1/2)', 'ln(x)']:\n",
        "        expr2 = expr.subs(x,random.randint(1,5)*x+random.choice([-1,1])*random.randint(1,7))\n",
        "        ans = random.randint(0,5)\n",
        "        result = expr2.subs(x,ans)\n",
        "    else:\n",
        "        expr2 = expr.subs(x,random.randint(1,5)*x+random.randint(1,7))\n",
        "        if f == 'ln(x)':\n",
        "            result = 2**random.randint(2,10)\n",
        "            expr2 = expr2/ln(2) - result\n",
        "            print(expr2)\n",
        "            ans = solve(expr2, x)\n",
        "            print(ans)\n",
        "        elif f == 'x**(1/2)':\n",
        "            result = random.randint(2,10)\n",
        "            #sqresult = result**2\n",
        "            expr2 = expr.subs(x,random.randint(1,5)*x+random.choice([-1,1])*random.randint(1,7))\n",
        "            ans = solve(expr2-result)\n",
        "print(expr2)\n",
        "print(ans, result)"
      ],
      "execution_count": 434,
      "outputs": [
        {
          "output_type": "stream",
          "text": [
            "(3*x + 5)**(1/3)\n",
            "3 14**(1/3)\n"
          ],
          "name": "stdout"
        }
      ]
    },
    {
      "cell_type": "markdown",
      "metadata": {
        "id": "rhr76DfnJEqB",
        "colab_type": "text"
      },
      "source": [
        "# Задача 7\n",
        "\n",
        "Указать все точки в который производная больше нуля\n"
      ]
    },
    {
      "cell_type": "code",
      "metadata": {
        "id": "8J2YVOSDJT2u",
        "colab_type": "code",
        "colab": {}
      },
      "source": [
        "#импорты\n",
        "from sympy import *\n",
        "import random\n",
        "import matplotlib.pyplot as plt\n",
        "import numpy as np"
      ],
      "execution_count": 0,
      "outputs": []
    },
    {
      "cell_type": "code",
      "metadata": {
        "id": "VX8NIke2PXK7",
        "colab_type": "code",
        "colab": {
          "base_uri": "https://localhost:8080/",
          "height": 316
        },
        "outputId": "b4c0e19b-c382-47d8-8f00-c440034d5f7f"
      },
      "source": [
        "x = np.linspace(-5, 5, 200)\n",
        "y = x*np.sin(x)-(5-x)*np.cos(x)\n",
        "\n",
        "\n",
        "\n",
        "ks = sort(random.sample(list(range(20,180,30)),6))\n",
        "x_c = x[ks]\n",
        "y_c = y[ks]\n",
        "\n",
        "answers = []\n",
        "for i,k in enumerate(ks):\n",
        "    if y[k]-y[k-1]>0:\n",
        "        answers.append(chr(65+i))\n",
        "print('answers: ',answers)\n",
        "\n",
        "'''expr = 'x*sin(x)-(5-x)*cos(x)'\n",
        "expr = simplify(expr)\n",
        "dy = diff(expr)\n",
        "\n",
        "for i,xp in enumerate(x_c):\n",
        "    print(dy.subs('x',xp))\n",
        "    if dy.subs('x',xp)>0:\n",
        "        answers.append(chr(65+i))'''\n",
        "\n",
        "\n",
        "fig, ax = plt.subplots()\n",
        "\n",
        "ax.plot(x, y)\n",
        "\n",
        "ax.scatter(x_c, y_c)\n",
        "\n",
        "#for xp, yp in zip(x_c, y_c):\n",
        "#    plt.annotate('A', xy=(x_c + 0.02,y_c))\n",
        "\n",
        "for i,(xp, yp) in enumerate(zip(x_c, y_c)):\n",
        "    plt.annotate(chr(65+i), xy=(xp+0.2,yp))\n",
        "\n",
        "\n",
        "ax.grid()\n",
        "\n",
        "plt.show()\n",
        " \n",
        "plt.show()"
      ],
      "execution_count": 527,
      "outputs": [
        {
          "output_type": "stream",
          "text": [
            "answers:  ['A', 'D', 'E']\n"
          ],
          "name": "stdout"
        },
        {
          "output_type": "stream",
          "text": [
            "/usr/local/lib/python3.6/dist-packages/ipykernel_launcher.py:6: DeprecationWarning: scipy.sort is deprecated and will be removed in SciPy 2.0.0, use numpy.sort instead\n",
            "  \n"
          ],
          "name": "stderr"
        },
        {
          "output_type": "display_data",
          "data": {
            "image/png": "[encoded data removed]",
            "text/plain": [
              "<Figure size 432x288 with 1 Axes>"
            ]
          },
          "metadata": {
            "tags": [],
            "needs_background": "light"
          }
        }
      ]
    },
    {
      "cell_type": "markdown",
      "metadata": {
        "id": "0zOoeLVYkzkl",
        "colab_type": "text"
      },
      "source": [
        "# Задача 9\n",
        "\n",
        "Найдите значение выражения"
      ]
    },
    {
      "cell_type": "code",
      "metadata": {
        "id": "-L05RV18kyR8",
        "colab_type": "code",
        "colab": {}
      },
      "source": [
        "from sympy import *"
      ],
      "execution_count": 0,
      "outputs": []
    },
    {
      "cell_type": "code",
      "metadata": {
        "id": "RyfB-dwKnjWE",
        "colab_type": "code",
        "colab": {}
      },
      "source": [
        "from sympy import *\n",
        "import random"
      ],
      "execution_count": 0,
      "outputs": []
    },
    {
      "cell_type": "code",
      "metadata": {
        "id": "RM-C7hSztxAj",
        "colab_type": "code",
        "colab": {}
      },
      "source": [
        "#функции\n",
        "degree_funcs = ['(x)**']\n",
        "trig_funcs = ['cos(x)', 'sin(x)']\n",
        "exp_ln_funcs =  ['exp(x)', 'ln(x)']"
      ],
      "execution_count": 0,
      "outputs": []
    },
    {
      "cell_type": "code",
      "metadata": {
        "id": "6Z_0xQ4t5OIF",
        "colab_type": "code",
        "colab": {}
      },
      "source": [
        "#знаки, множители\n",
        "signs = ['-','+']\n",
        "consts = list(set([simplify(str(a)+'/'+str(b)) for b in range(1,7) for a in range(1,7)]))"
      ],
      "execution_count": 0,
      "outputs": []
    },
    {
      "cell_type": "code",
      "metadata": {
        "id": "mIjHlIb_24VV",
        "colab_type": "code",
        "colab": {}
      },
      "source": [
        "math_funcs = degree_funcs + trig_funcs + exp_ln_funcs"
      ],
      "execution_count": 0,
      "outputs": []
    },
    {
      "cell_type": "markdown",
      "metadata": {
        "id": "J7UZuZEtu9XU",
        "colab_type": "text"
      },
      "source": [
        "# Семплы для производных"
      ]
    },
    {
      "cell_type": "markdown",
      "metadata": {
        "id": "2Xjmvvq6thMd",
        "colab_type": "text"
      },
      "source": [
        "Производные простых функций"
      ]
    },
    {
      "cell_type": "code",
      "metadata": {
        "id": "aPOTbZxoteS-",
        "colab_type": "code",
        "outputId": "9f6e968a-3bbe-4e89-e476-039fa0198d66",
        "colab": {
          "base_uri": "https://localhost:8080/",
          "height": 51
        }
      },
      "source": [
        "exprs = random.sample(math_funcs,k=4)\n",
        "final_expr = ''\n",
        "\n",
        "for expr in exprs:\n",
        "    if expr == '(x)**':\n",
        "        expr+='('+random.choice(signs)+str(random.choice(consts))+')'\n",
        "    xi = expr.find('(x')\n",
        "    expr = expr[:xi+1]+str(random.choice(consts))+'*'+expr[xi+1:]\n",
        "    final_expr += random.choice(signs)+expr\n",
        "print(final_expr)\n",
        "final_expr = simplify(final_expr)\n",
        "print('simplified',final_expr)"
      ],
      "execution_count": 510,
      "outputs": [
        {
          "output_type": "stream",
          "text": [
            "-exp(1/4*x)+sin(5/6*x)+cos(5*x)-ln(5/2*x)\n",
            "simplified -exp(x/4) - log(5*x/2) + sin(5*x/6) + cos(5*x)\n"
          ],
          "name": "stdout"
        }
      ]
    },
    {
      "cell_type": "code",
      "metadata": {
        "id": "t_Uy6-TmiAbU",
        "colab_type": "code",
        "colab": {
          "base_uri": "https://localhost:8080/",
          "height": 34
        },
        "outputId": "6c9a03ea-b4b8-4212-cd7c-b11bba1f6355"
      },
      "source": [
        "\n",
        "final_expr = simplify('x*sin(x)-(5-x)*sin(x)')\n",
        "print(final_expr)"
      ],
      "execution_count": 518,
      "outputs": [
        {
          "output_type": "stream",
          "text": [
            "(2*x - 5)*sin(x)\n"
          ],
          "name": "stdout"
        }
      ]
    },
    {
      "cell_type": "code",
      "metadata": {
        "id": "hn9EoYKWxMu6",
        "colab_type": "code",
        "outputId": "c9dc7250-90ef-4e36-a614-dbc1f9d38d51",
        "colab": {
          "base_uri": "https://localhost:8080/",
          "height": 51
        }
      },
      "source": [
        "print('answer')\n",
        "diff(final_expr)"
      ],
      "execution_count": 519,
      "outputs": [
        {
          "output_type": "stream",
          "text": [
            "answer\n"
          ],
          "name": "stdout"
        },
        {
          "output_type": "execute_result",
          "data": {
            "text/plain": [
              "(2*x - 5)*cos(x) + 2*sin(x)"
            ]
          },
          "metadata": {
            "tags": []
          },
          "execution_count": 519
        }
      ]
    },
    {
      "cell_type": "markdown",
      "metadata": {
        "id": "iWYuObYZkgV2",
        "colab_type": "text"
      },
      "source": [
        "Производная сложной функции"
      ]
    },
    {
      "cell_type": "code",
      "metadata": {
        "id": "Aqkz-70Dkjd5",
        "colab_type": "code",
        "outputId": "b861b12f-d598-41dc-bb19-963e84eb7521",
        "colab": {
          "base_uri": "https://localhost:8080/",
          "height": 52
        }
      },
      "source": [
        "exprs = random.sample(math_funcs,k=2)\n",
        "final_expr = ''\n",
        "\n",
        "for expr in exprs:\n",
        "    if expr == '(x)**':\n",
        "        expr+='('+random.choice(signs)+str(random.choice(consts))+')'\n",
        "    xi = expr.find('(x')\n",
        "    expr = expr[:xi+1]+str(random.choice(math_funcs))+expr[xi+2:]\n",
        "    final_expr += random.choice(signs)+expr\n",
        "print(final_expr)\n",
        "final_expr = simplify(final_expr)\n",
        "print('simplified',final_expr)"
      ],
      "execution_count": 0,
      "outputs": [
        {
          "output_type": "stream",
          "text": [
            "+sin(ln(x))-ln(exp(x))\n",
            "simplified -log(exp(x)) + sin(log(x))\n"
          ],
          "name": "stdout"
        }
      ]
    },
    {
      "cell_type": "code",
      "metadata": {
        "id": "NL0BrYoWkpuV",
        "colab_type": "code",
        "colab": {}
      },
      "source": [
        "print('answer')\n",
        "diff(final_expr)"
      ],
      "execution_count": 0,
      "outputs": []
    },
    {
      "cell_type": "markdown",
      "metadata": {
        "id": "epTYxIM9gG1W",
        "colab_type": "text"
      },
      "source": [
        "Тригонометрия"
      ]
    },
    {
      "cell_type": "code",
      "metadata": {
        "id": "SxmfFO4_h8To",
        "colab_type": "code",
        "colab": {}
      },
      "source": [
        "trig_consts = list(set([simplify(str(a)+'/'+str(b)) for b in range(1,3) for a in range(1,3)]))"
      ],
      "execution_count": 0,
      "outputs": []
    },
    {
      "cell_type": "code",
      "metadata": {
        "id": "SdpnW1Xd32_R",
        "colab_type": "code",
        "outputId": "f6cdc332-99ce-4a31-edc5-79fd7521bf39",
        "colab": {
          "base_uri": "https://localhost:8080/",
          "height": 51
        }
      },
      "source": [
        "exprs = random.sample(trig_funcs,k=2)\n",
        "final_expr = ''\n",
        "\n",
        "for expr in exprs:\n",
        "    xi = expr.find('(x')\n",
        "    expr = expr[:xi+1]+str(random.choice(trig_consts))+'*'+expr[xi+1:]\n",
        "    final_expr += random.choice(signs)+expr\n",
        "print(final_expr)\n",
        "final_expr = simplify(final_expr)\n",
        "print('simplified',final_expr)"
      ],
      "execution_count": 0,
      "outputs": [
        {
          "output_type": "stream",
          "text": [
            "+sin(2*x)+cos(2*x)\n",
            "simplified sqrt(2)*sin(2*x + pi/4)\n"
          ],
          "name": "stdout"
        }
      ]
    },
    {
      "cell_type": "code",
      "metadata": {
        "id": "gyCMtTORnBTW",
        "colab_type": "code",
        "colab": {}
      },
      "source": [
        ""
      ],
      "execution_count": 0,
      "outputs": []
    },
    {
      "cell_type": "code",
      "metadata": {
        "id": "7DikusiTnBa7",
        "colab_type": "code",
        "colab": {}
      },
      "source": [
        "\n",
        "trig_funcs = ['cos(x)', 'sin(x)']\n",
        "exp_ln_funcs = ['exp(x)', 'ln(x)']\n",
        "math_funcs = trig_funcs + exp_ln_funcs"
      ],
      "execution_count": 0,
      "outputs": []
    },
    {
      "cell_type": "code",
      "metadata": {
        "id": "tngv0e5dnDVY",
        "colab_type": "code",
        "colab": {
          "base_uri": "https://localhost:8080/",
          "height": 68
        },
        "outputId": "f0f82338-be1a-4eec-acbb-c3f25d719c65"
      },
      "source": [
        "x = symbols('x')\n",
        "funcs = random.sample(math_funcs,3)\n",
        "#дальше редактируешь каждую\n",
        "for func in funcs:\n",
        "    print(func)\n",
        "    func = simplify(func)\n",
        "    func = func.subs(x,random.randint(1,5)*x+random.randint(-7,7))"
      ],
      "execution_count": 544,
      "outputs": [
        {
          "output_type": "stream",
          "text": [
            "sin(x)\n",
            "cos(x)\n",
            "ln(x)\n"
          ],
          "name": "stdout"
        }
      ]
    },
    {
      "cell_type": "code",
      "metadata": {
        "id": "BToUGD45PfDo",
        "colab_type": "code",
        "colab": {}
      },
      "source": [
        ""
      ],
      "execution_count": 0,
      "outputs": []
    }
  ]
}