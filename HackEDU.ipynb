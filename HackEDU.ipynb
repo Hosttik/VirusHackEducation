{
  "nbformat": 4,
  "nbformat_minor": 0,
  "metadata": {
    "colab": {
      "name": "HackEDU.ipynb",
      "provenance": [],
      "collapsed_sections": []
    },
    "kernelspec": {
      "name": "python3",
      "display_name": "Python 3"
    }
  },
  "cells": [
    {
      "cell_type": "code",
      "metadata": {
        "id": "RyfB-dwKnjWE",
        "colab_type": "code",
        "colab": {}
      },
      "source": [
        "from sympy import *\n",
        "import random"
      ],
      "execution_count": 0,
      "outputs": []
    },
    {
      "cell_type": "code",
      "metadata": {
        "id": "RM-C7hSztxAj",
        "colab_type": "code",
        "colab": {}
      },
      "source": [
        "#функции\n",
        "degree_funcs = ['(x)**']\n",
        "trig_funcs = ['cos(x)', 'sin(x)']\n",
        "exp_ln_funcs =  ['exp(x)', 'ln(x)']"
      ],
      "execution_count": 0,
      "outputs": []
    },
    {
      "cell_type": "code",
      "metadata": {
        "id": "6Z_0xQ4t5OIF",
        "colab_type": "code",
        "colab": {}
      },
      "source": [
        "#знаки, множители\n",
        "signs = ['-','+']\n",
        "consts = list(set([simplify(str(a)+'/'+str(b)) for b in range(1,7) for a in range(1,7)]))"
      ],
      "execution_count": 0,
      "outputs": []
    },
    {
      "cell_type": "code",
      "metadata": {
        "id": "mIjHlIb_24VV",
        "colab_type": "code",
        "colab": {}
      },
      "source": [
        "math_funcs = degree_funcs + trig_funcs + exp_ln_funcs"
      ],
      "execution_count": 0,
      "outputs": []
    },
    {
      "cell_type": "markdown",
      "metadata": {
        "id": "2Xjmvvq6thMd",
        "colab_type": "text"
      },
      "source": [
        "Производные простых функций"
      ]
    },
    {
      "cell_type": "code",
      "metadata": {
        "id": "aPOTbZxoteS-",
        "colab_type": "code",
        "colab": {
          "base_uri": "https://localhost:8080/",
          "height": 50
        },
        "outputId": "42a1cf2f-5fca-499c-c1fd-ffa002ea4f48"
      },
      "source": [
        "exprs = random.sample(math_funcs,k=4)\n",
        "final_expr = ''\n",
        "\n",
        "for expr in exprs:\n",
        "    if expr == '(x)**':\n",
        "        expr+='('+random.choice(signs)+str(random.choice(consts))+')'\n",
        "    xi = expr.find('(x')\n",
        "    expr = expr[:xi+1]+str(random.choice(consts))+'*'+expr[xi+1:]\n",
        "    final_expr += random.choice(sign)+expr\n",
        "print(final_expr)\n",
        "final_expr = simplify(final_expr)\n",
        "print('simplified',final_expr)"
      ],
      "execution_count": 63,
      "outputs": [
        {
          "output_type": "stream",
          "text": [
            "+sin(5/4*x)+ln(5*x)+cos(1/2*x)-(4/3*x)**(-1/4)\n",
            "simplified log(5*x) + sin(5*x/4) + cos(x/2) - sqrt(2)*3**(1/4)/(2*x**(1/4))\n"
          ],
          "name": "stdout"
        }
      ]
    },
    {
      "cell_type": "code",
      "metadata": {
        "id": "hn9EoYKWxMu6",
        "colab_type": "code",
        "colab": {
          "base_uri": "https://localhost:8080/",
          "height": 50
        },
        "outputId": "be2c1395-ac96-448c-91f1-417af9d84035"
      },
      "source": [
        "print('answer')\n",
        "diff(final_expr)"
      ],
      "execution_count": 57,
      "outputs": [
        {
          "output_type": "stream",
          "text": [
            "answer\n"
          ],
          "name": "stdout"
        },
        {
          "output_type": "execute_result",
          "data": {
            "text/plain": [
              "exp(x) + cos(x) - 1/x - 4/(5*x**(9/5))"
            ]
          },
          "metadata": {
            "tags": []
          },
          "execution_count": 57
        }
      ]
    },
    {
      "cell_type": "markdown",
      "metadata": {
        "id": "iWYuObYZkgV2",
        "colab_type": "text"
      },
      "source": [
        "Производная сложной функции"
      ]
    },
    {
      "cell_type": "code",
      "metadata": {
        "id": "Aqkz-70Dkjd5",
        "colab_type": "code",
        "colab": {
          "base_uri": "https://localhost:8080/",
          "height": 50
        },
        "outputId": "b861b12f-d598-41dc-bb19-963e84eb7521"
      },
      "source": [
        "exprs = random.sample(math_funcs,k=2)\n",
        "final_expr = ''\n",
        "\n",
        "for expr in exprs:\n",
        "    if expr == '(x)**':\n",
        "        expr+='('+random.choice(signs)+str(random.choice(consts))+')'\n",
        "    xi = expr.find('(x')\n",
        "    expr = expr[:xi+1]+str(random.choice(math_funcs))+expr[xi+2:]\n",
        "    final_expr += random.choice(signs)+expr\n",
        "print(final_expr)\n",
        "final_expr = simplify(final_expr)\n",
        "print('simplified',final_expr)"
      ],
      "execution_count": 16,
      "outputs": [
        {
          "output_type": "stream",
          "text": [
            "+sin(ln(x))-ln(exp(x))\n",
            "simplified -log(exp(x)) + sin(log(x))\n"
          ],
          "name": "stdout"
        }
      ]
    },
    {
      "cell_type": "code",
      "metadata": {
        "id": "NL0BrYoWkpuV",
        "colab_type": "code",
        "colab": {}
      },
      "source": [
        "print('answer')\n",
        "diff(final_expr)"
      ],
      "execution_count": 0,
      "outputs": []
    },
    {
      "cell_type": "markdown",
      "metadata": {
        "id": "epTYxIM9gG1W",
        "colab_type": "text"
      },
      "source": [
        "Тригонометрия"
      ]
    },
    {
      "cell_type": "code",
      "metadata": {
        "id": "SxmfFO4_h8To",
        "colab_type": "code",
        "colab": {}
      },
      "source": [
        "trig_consts = list(set([simplify(str(a)+'/'+str(b)) for b in range(1,3) for a in range(1,3)]))"
      ],
      "execution_count": 0,
      "outputs": []
    },
    {
      "cell_type": "code",
      "metadata": {
        "id": "SdpnW1Xd32_R",
        "colab_type": "code",
        "colab": {
          "base_uri": "https://localhost:8080/",
          "height": 50
        },
        "outputId": "f6cdc332-99ce-4a31-edc5-79fd7521bf39"
      },
      "source": [
        "exprs = random.sample(trig_funcs,k=2)\n",
        "final_expr = ''\n",
        "\n",
        "for expr in exprs:\n",
        "    xi = expr.find('(x')\n",
        "    expr = expr[:xi+1]+str(random.choice(trig_consts))+'*'+expr[xi+1:]\n",
        "    final_expr += random.choice(signs)+expr\n",
        "print(final_expr)\n",
        "final_expr = simplify(final_expr)\n",
        "print('simplified',final_expr)"
      ],
      "execution_count": 12,
      "outputs": [
        {
          "output_type": "stream",
          "text": [
            "+sin(2*x)+cos(2*x)\n",
            "simplified sqrt(2)*sin(2*x + pi/4)\n"
          ],
          "name": "stdout"
        }
      ]
    },
    {
      "cell_type": "markdown",
      "metadata": {
        "id": "l0EyULvSkZkd",
        "colab_type": "text"
      },
      "source": [
        ""
      ]
    }
  ]
}